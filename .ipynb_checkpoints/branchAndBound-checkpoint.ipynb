{
 "cells": [
  {
   "cell_type": "markdown",
   "id": "9b842596-56ca-4c03-bf60-6e70dbaa8dfd",
   "metadata": {},
   "source": [
    "# Trabalho final - Branch And Bound - Pesquisa Operacional\n",
    "## Alunos: Guilherme Iram, Tales Nobre\n",
    "## Professor: Teobaldo Bulhões "
   ]
  },
  {
   "cell_type": "code",
   "execution_count": 1,
   "id": "054dd82f-28fb-48f4-8ccb-06b93187ad30",
   "metadata": {
    "tags": []
   },
   "outputs": [],
   "source": [
    "from mip import *"
   ]
  },
  {
   "cell_type": "code",
   "execution_count": 2,
   "id": "6f63241b-134a-479e-96eb-4a1a81f55ee4",
   "metadata": {},
   "outputs": [],
   "source": [
    "def solve(model):\n",
    "    status = model.optimize()\n",
    "    \n",
    "    if str(status) == \"OptimizationStatus.INFEASIBLE\":\n",
    "        print(\"INVIÁVEL\")\n",
    "        return\n",
    "    \n",
    "    print(\"Status = \", status)\n",
    "    print(f\"Solution value  = {model.objective_value:.2f}\\n\")\n",
    "  \n",
    "    print(\"Solution:\")\n",
    "    for v in model.vars:\n",
    "        print(f\"{v.name} = {v.x:.2f}\")"
   ]
  },
  {
   "cell_type": "code",
   "execution_count": 3,
   "id": "3c1eb505-388d-4b93-bc49-eef9b3eafe2c",
   "metadata": {},
   "outputs": [],
   "source": [
    "def print_modelo(model):\n",
    "    model.write(\"model.lp\")\n",
    "    with open(\"model.lp\") as f: \n",
    "        print(f.read())"
   ]
  },
  {
   "cell_type": "code",
   "execution_count": 4,
   "id": "62282fae-99af-4454-8139-8ee3be937eef",
   "metadata": {},
   "outputs": [],
   "source": [
    "def is_int(n):\n",
    "    return n % 1 == 0"
   ]
  },
  {
   "cell_type": "code",
   "execution_count": 5,
   "id": "29bad3cb-67c3-43bf-9749-bd50d03c1553",
   "metadata": {},
   "outputs": [],
   "source": [
    "def objectivo_value_cost(node):\n",
    "    node.model.optimize()\n",
    "    return node.model.objective_value"
   ]
  },
  {
   "cell_type": "code",
   "execution_count": 6,
   "id": "7e1a8739-5759-4de4-9c0d-1234737d8687",
   "metadata": {},
   "outputs": [],
   "source": [
    "def read_instance(path):\n",
    "    file = open(path, 'r')\n",
    "    n_var = 0\n",
    "    n_restricoes = 0\n",
    "    coeficientes_fo = []\n",
    "    restricoes = []\n",
    "\n",
    "    for i, line in enumerate(file.readlines()):\n",
    "\n",
    "        if i == 0:\n",
    "            n_var, n_restricoes = line.split(\" \")\n",
    "            n_var, n_restricoes = int(n_var), int(n_restricoes)\n",
    "\n",
    "        elif i == 1:\n",
    "            for coef in line.split(\" \"):\n",
    "                coeficientes_fo.append(float(coef))\n",
    "\n",
    "        else:\n",
    "            coeficientes = []\n",
    "\n",
    "            for n in line.split(\" \"):\n",
    "                coeficientes.append(float(n))\n",
    "\n",
    "            restricoes.append(coeficientes)\n",
    "\n",
    "    model = Model(sense=MAXIMIZE, solver_name=CBC)\n",
    "\n",
    "    x = [model.add_var(var_type=CONTINUOUS, name=f\"x_{i + 1}\", lb=0.0, ub=1.0) for i in range(n_var)]\n",
    "\n",
    "    model.objective = xsum([coeficientes_fo[i] * x[i] for i in range(n_var)])\n",
    "    \n",
    "    for restricao in restricoes:\n",
    "        LHS = xsum([restricao[i] * x[i] for i in range(n_var)])\n",
    "        model += LHS <= restricao[-1]\n",
    "    \n",
    "    return model, x\n"
   ]
  },
  {
   "cell_type": "code",
   "execution_count": 7,
   "id": "6f9d4ed3-bd11-4663-8bb5-7cef1de179c6",
   "metadata": {},
   "outputs": [],
   "source": [
    "class Node():\n",
    "    def __init__(self, model, x, dual_limit = 0, primal_limit = 0, parent=None, left_node=None, rigth_node=None):\n",
    "        self.model = model\n",
    "        self.x = x\n",
    "        self.dual_limit = dual_limit\n",
    "        self.primal_limit = primal_limit\n",
    "        self.parent = parent\n",
    "        self.left = left_node\n",
    "        self.right = rigth_node"
   ]
  },
  {
   "cell_type": "code",
   "execution_count": 8,
   "id": "7edd28bc-fa43-4016-a4e3-4e9cc1ded136",
   "metadata": {},
   "outputs": [],
   "source": [
    "def build_tree(node, x, primal_limit, dual_limit, best_nodes_list):\n",
    "    \n",
    "    status = node.model.optimize()\n",
    "    \n",
    "    # poda por inviabilidade\n",
    "    if str(status) == \"OptimizationStatus.INFEASIBLE\":\n",
    "        node.left = None\n",
    "        node.right = None\n",
    "        # print(\"Podei por INVIABILIDADE\")\n",
    "        return\n",
    "    \n",
    "    fo_value = node.model.objective_value\n",
    "    \n",
    "    # atualizando o limite dual\n",
    "    if fo_value > dual_limit:\n",
    "        dual_limit = fo_value\n",
    "        \n",
    "    # poda por limitante\n",
    "    if primal_limit > fo_value:\n",
    "        node.left = None\n",
    "        node.right = None\n",
    "        # print(\"Podei por LIMITANTE\")\n",
    "        return\n",
    "    \n",
    "   \n",
    "    all_int = True\n",
    "    for v in node.model.vars:\n",
    "        if not is_int(v.x):\n",
    "            all_int = False\n",
    "            \n",
    "    # poda por integralidade\n",
    "    if all_int:\n",
    "        # atualizacao do limite primal\n",
    "        if primal_limit < fo_value:\n",
    "            primal_limit = fo_value\n",
    "            best_nodes_list.append(node)\n",
    "            node.left = None\n",
    "            node.right = None\n",
    "            # print(\"Podei por INTEGRALIDADE\")\n",
    "        return\n",
    "        \n",
    "    for i, v in enumerate(node.model.vars):\n",
    "        \n",
    "        if not is_int(v.x):\n",
    "            aux1 = node.model.copy()\n",
    "            aux2 = node.model.copy()\n",
    "            \n",
    "            aux1 += x[i] == 0\n",
    "            aux2 += x[i] == 1\n",
    "            \n",
    "            aux1.optimize()\n",
    "            aux2.optimize()\n",
    "            \n",
    "            node_1 = Node(aux1, x, dual_limit, primal_limit, node, None, None)\n",
    "            node_2 = Node(aux2, x, dual_limit, primal_limit, node, None, None)\n",
    "            \n",
    "            node.left = node_1\n",
    "            node.right = node_2\n",
    "            \n",
    "            build_tree(node_1, node_1.x, primal_limit, dual_limit, best_nodes_list)\n",
    "            build_tree(node_2, node_2.x, primal_limit, dual_limit, best_nodes_list)\n",
    "            \n",
    "    return best_nodes_list"
   ]
  },
  {
   "cell_type": "code",
   "execution_count": 9,
   "id": "5aab25d0-4447-4e7a-983e-216ac91f9c16",
   "metadata": {},
   "outputs": [
    {
     "ename": "KeyboardInterrupt",
     "evalue": "",
     "output_type": "error",
     "traceback": [
      "\u001b[1;31m---------------------------------------------------------------------------\u001b[0m",
      "\u001b[1;31mKeyboardInterrupt\u001b[0m                         Traceback (most recent call last)",
      "Input \u001b[1;32mIn [9]\u001b[0m, in \u001b[0;36m<cell line: 7>\u001b[1;34m()\u001b[0m\n\u001b[0;32m      4\u001b[0m aux1\u001b[38;5;241m.\u001b[39moptimize()\n\u001b[0;32m      5\u001b[0m node \u001b[38;5;241m=\u001b[39m Node(model\u001b[38;5;241m=\u001b[39maux1, x\u001b[38;5;241m=\u001b[39mx, dual_limit \u001b[38;5;241m=\u001b[39m aux1\u001b[38;5;241m.\u001b[39mobjective_value, primal_limit \u001b[38;5;241m=\u001b[39m \u001b[38;5;241m0\u001b[39m,parent\u001b[38;5;241m=\u001b[39m\u001b[38;5;28;01mNone\u001b[39;00m, left_node\u001b[38;5;241m=\u001b[39m\u001b[38;5;28;01mNone\u001b[39;00m, rigth_node\u001b[38;5;241m=\u001b[39m\u001b[38;5;28;01mNone\u001b[39;00m)\n\u001b[1;32m----> 7\u001b[0m list_nodes \u001b[38;5;241m=\u001b[39m \u001b[43mbuild_tree\u001b[49m\u001b[43m(\u001b[49m\u001b[43mnode\u001b[49m\u001b[43m,\u001b[49m\u001b[43m \u001b[49m\u001b[43mx\u001b[49m\u001b[43m,\u001b[49m\u001b[43m \u001b[49m\u001b[43mnode\u001b[49m\u001b[38;5;241;43m.\u001b[39;49m\u001b[43mprimal_limit\u001b[49m\u001b[43m,\u001b[49m\u001b[43m \u001b[49m\u001b[43mnode\u001b[49m\u001b[38;5;241;43m.\u001b[39;49m\u001b[43mdual_limit\u001b[49m\u001b[43m,\u001b[49m\u001b[43m \u001b[49m\u001b[43m[\u001b[49m\u001b[43m]\u001b[49m\u001b[43m)\u001b[49m\n",
      "Input \u001b[1;32mIn [8]\u001b[0m, in \u001b[0;36mbuild_tree\u001b[1;34m(node, x, primal_limit, dual_limit, best_nodes_list)\u001b[0m\n\u001b[0;32m     57\u001b[0m         node\u001b[38;5;241m.\u001b[39mleft \u001b[38;5;241m=\u001b[39m node_1\n\u001b[0;32m     58\u001b[0m         node\u001b[38;5;241m.\u001b[39mright \u001b[38;5;241m=\u001b[39m node_2\n\u001b[1;32m---> 60\u001b[0m         \u001b[43mbuild_tree\u001b[49m\u001b[43m(\u001b[49m\u001b[43mnode_1\u001b[49m\u001b[43m,\u001b[49m\u001b[43m \u001b[49m\u001b[43mnode_1\u001b[49m\u001b[38;5;241;43m.\u001b[39;49m\u001b[43mx\u001b[49m\u001b[43m,\u001b[49m\u001b[43m \u001b[49m\u001b[43mprimal_limit\u001b[49m\u001b[43m,\u001b[49m\u001b[43m \u001b[49m\u001b[43mdual_limit\u001b[49m\u001b[43m,\u001b[49m\u001b[43m \u001b[49m\u001b[43mbest_nodes_list\u001b[49m\u001b[43m)\u001b[49m\n\u001b[0;32m     61\u001b[0m         build_tree(node_2, node_2\u001b[38;5;241m.\u001b[39mx, primal_limit, dual_limit, best_nodes_list)\n\u001b[0;32m     63\u001b[0m \u001b[38;5;28;01mreturn\u001b[39;00m best_nodes_list\n",
      "Input \u001b[1;32mIn [8]\u001b[0m, in \u001b[0;36mbuild_tree\u001b[1;34m(node, x, primal_limit, dual_limit, best_nodes_list)\u001b[0m\n\u001b[0;32m     57\u001b[0m         node\u001b[38;5;241m.\u001b[39mleft \u001b[38;5;241m=\u001b[39m node_1\n\u001b[0;32m     58\u001b[0m         node\u001b[38;5;241m.\u001b[39mright \u001b[38;5;241m=\u001b[39m node_2\n\u001b[1;32m---> 60\u001b[0m         \u001b[43mbuild_tree\u001b[49m\u001b[43m(\u001b[49m\u001b[43mnode_1\u001b[49m\u001b[43m,\u001b[49m\u001b[43m \u001b[49m\u001b[43mnode_1\u001b[49m\u001b[38;5;241;43m.\u001b[39;49m\u001b[43mx\u001b[49m\u001b[43m,\u001b[49m\u001b[43m \u001b[49m\u001b[43mprimal_limit\u001b[49m\u001b[43m,\u001b[49m\u001b[43m \u001b[49m\u001b[43mdual_limit\u001b[49m\u001b[43m,\u001b[49m\u001b[43m \u001b[49m\u001b[43mbest_nodes_list\u001b[49m\u001b[43m)\u001b[49m\n\u001b[0;32m     61\u001b[0m         build_tree(node_2, node_2\u001b[38;5;241m.\u001b[39mx, primal_limit, dual_limit, best_nodes_list)\n\u001b[0;32m     63\u001b[0m \u001b[38;5;28;01mreturn\u001b[39;00m best_nodes_list\n",
      "Input \u001b[1;32mIn [8]\u001b[0m, in \u001b[0;36mbuild_tree\u001b[1;34m(node, x, primal_limit, dual_limit, best_nodes_list)\u001b[0m\n\u001b[0;32m     58\u001b[0m         node\u001b[38;5;241m.\u001b[39mright \u001b[38;5;241m=\u001b[39m node_2\n\u001b[0;32m     60\u001b[0m         build_tree(node_1, node_1\u001b[38;5;241m.\u001b[39mx, primal_limit, dual_limit, best_nodes_list)\n\u001b[1;32m---> 61\u001b[0m         \u001b[43mbuild_tree\u001b[49m\u001b[43m(\u001b[49m\u001b[43mnode_2\u001b[49m\u001b[43m,\u001b[49m\u001b[43m \u001b[49m\u001b[43mnode_2\u001b[49m\u001b[38;5;241;43m.\u001b[39;49m\u001b[43mx\u001b[49m\u001b[43m,\u001b[49m\u001b[43m \u001b[49m\u001b[43mprimal_limit\u001b[49m\u001b[43m,\u001b[49m\u001b[43m \u001b[49m\u001b[43mdual_limit\u001b[49m\u001b[43m,\u001b[49m\u001b[43m \u001b[49m\u001b[43mbest_nodes_list\u001b[49m\u001b[43m)\u001b[49m\n\u001b[0;32m     63\u001b[0m \u001b[38;5;28;01mreturn\u001b[39;00m best_nodes_list\n",
      "Input \u001b[1;32mIn [8]\u001b[0m, in \u001b[0;36mbuild_tree\u001b[1;34m(node, x, primal_limit, dual_limit, best_nodes_list)\u001b[0m\n\u001b[0;32m     57\u001b[0m         node\u001b[38;5;241m.\u001b[39mleft \u001b[38;5;241m=\u001b[39m node_1\n\u001b[0;32m     58\u001b[0m         node\u001b[38;5;241m.\u001b[39mright \u001b[38;5;241m=\u001b[39m node_2\n\u001b[1;32m---> 60\u001b[0m         \u001b[43mbuild_tree\u001b[49m\u001b[43m(\u001b[49m\u001b[43mnode_1\u001b[49m\u001b[43m,\u001b[49m\u001b[43m \u001b[49m\u001b[43mnode_1\u001b[49m\u001b[38;5;241;43m.\u001b[39;49m\u001b[43mx\u001b[49m\u001b[43m,\u001b[49m\u001b[43m \u001b[49m\u001b[43mprimal_limit\u001b[49m\u001b[43m,\u001b[49m\u001b[43m \u001b[49m\u001b[43mdual_limit\u001b[49m\u001b[43m,\u001b[49m\u001b[43m \u001b[49m\u001b[43mbest_nodes_list\u001b[49m\u001b[43m)\u001b[49m\n\u001b[0;32m     61\u001b[0m         build_tree(node_2, node_2\u001b[38;5;241m.\u001b[39mx, primal_limit, dual_limit, best_nodes_list)\n\u001b[0;32m     63\u001b[0m \u001b[38;5;28;01mreturn\u001b[39;00m best_nodes_list\n",
      "Input \u001b[1;32mIn [8]\u001b[0m, in \u001b[0;36mbuild_tree\u001b[1;34m(node, x, primal_limit, dual_limit, best_nodes_list)\u001b[0m\n\u001b[0;32m     57\u001b[0m         node\u001b[38;5;241m.\u001b[39mleft \u001b[38;5;241m=\u001b[39m node_1\n\u001b[0;32m     58\u001b[0m         node\u001b[38;5;241m.\u001b[39mright \u001b[38;5;241m=\u001b[39m node_2\n\u001b[1;32m---> 60\u001b[0m         \u001b[43mbuild_tree\u001b[49m\u001b[43m(\u001b[49m\u001b[43mnode_1\u001b[49m\u001b[43m,\u001b[49m\u001b[43m \u001b[49m\u001b[43mnode_1\u001b[49m\u001b[38;5;241;43m.\u001b[39;49m\u001b[43mx\u001b[49m\u001b[43m,\u001b[49m\u001b[43m \u001b[49m\u001b[43mprimal_limit\u001b[49m\u001b[43m,\u001b[49m\u001b[43m \u001b[49m\u001b[43mdual_limit\u001b[49m\u001b[43m,\u001b[49m\u001b[43m \u001b[49m\u001b[43mbest_nodes_list\u001b[49m\u001b[43m)\u001b[49m\n\u001b[0;32m     61\u001b[0m         build_tree(node_2, node_2\u001b[38;5;241m.\u001b[39mx, primal_limit, dual_limit, best_nodes_list)\n\u001b[0;32m     63\u001b[0m \u001b[38;5;28;01mreturn\u001b[39;00m best_nodes_list\n",
      "    \u001b[1;31m[... skipping similar frames: build_tree at line 60 (2 times)]\u001b[0m\n",
      "Input \u001b[1;32mIn [8]\u001b[0m, in \u001b[0;36mbuild_tree\u001b[1;34m(node, x, primal_limit, dual_limit, best_nodes_list)\u001b[0m\n\u001b[0;32m     57\u001b[0m         node\u001b[38;5;241m.\u001b[39mleft \u001b[38;5;241m=\u001b[39m node_1\n\u001b[0;32m     58\u001b[0m         node\u001b[38;5;241m.\u001b[39mright \u001b[38;5;241m=\u001b[39m node_2\n\u001b[1;32m---> 60\u001b[0m         \u001b[43mbuild_tree\u001b[49m\u001b[43m(\u001b[49m\u001b[43mnode_1\u001b[49m\u001b[43m,\u001b[49m\u001b[43m \u001b[49m\u001b[43mnode_1\u001b[49m\u001b[38;5;241;43m.\u001b[39;49m\u001b[43mx\u001b[49m\u001b[43m,\u001b[49m\u001b[43m \u001b[49m\u001b[43mprimal_limit\u001b[49m\u001b[43m,\u001b[49m\u001b[43m \u001b[49m\u001b[43mdual_limit\u001b[49m\u001b[43m,\u001b[49m\u001b[43m \u001b[49m\u001b[43mbest_nodes_list\u001b[49m\u001b[43m)\u001b[49m\n\u001b[0;32m     61\u001b[0m         build_tree(node_2, node_2\u001b[38;5;241m.\u001b[39mx, primal_limit, dual_limit, best_nodes_list)\n\u001b[0;32m     63\u001b[0m \u001b[38;5;28;01mreturn\u001b[39;00m best_nodes_list\n",
      "Input \u001b[1;32mIn [8]\u001b[0m, in \u001b[0;36mbuild_tree\u001b[1;34m(node, x, primal_limit, dual_limit, best_nodes_list)\u001b[0m\n\u001b[0;32m     49\u001b[0m aux2 \u001b[38;5;241m+\u001b[39m\u001b[38;5;241m=\u001b[39m x[i] \u001b[38;5;241m==\u001b[39m \u001b[38;5;241m1\u001b[39m\n\u001b[0;32m     51\u001b[0m aux1\u001b[38;5;241m.\u001b[39moptimize()\n\u001b[1;32m---> 52\u001b[0m \u001b[43maux2\u001b[49m\u001b[38;5;241;43m.\u001b[39;49m\u001b[43moptimize\u001b[49m\u001b[43m(\u001b[49m\u001b[43m)\u001b[49m\n\u001b[0;32m     54\u001b[0m node_1 \u001b[38;5;241m=\u001b[39m Node(aux1, x, dual_limit, primal_limit, node, \u001b[38;5;28;01mNone\u001b[39;00m, \u001b[38;5;28;01mNone\u001b[39;00m)\n\u001b[0;32m     55\u001b[0m node_2 \u001b[38;5;241m=\u001b[39m Node(aux2, x, dual_limit, primal_limit, node, \u001b[38;5;28;01mNone\u001b[39;00m, \u001b[38;5;28;01mNone\u001b[39;00m)\n",
      "File \u001b[1;32m~\\anaconda3\\lib\\site-packages\\mip\\model.py:618\u001b[0m, in \u001b[0;36mModel.optimize\u001b[1;34m(self, max_seconds, max_nodes, max_solutions, max_seconds_same_incumbent, max_nodes_same_incumbent, relax)\u001b[0m\n\u001b[0;32m    608\u001b[0m \u001b[38;5;66;03m# self.solver.set_callbacks(branch_selector,\u001b[39;00m\n\u001b[0;32m    609\u001b[0m \u001b[38;5;66;03m# incumbent_updater, lazy_constrs_generator)\u001b[39;00m\n\u001b[0;32m    610\u001b[0m \u001b[38;5;28mself\u001b[39m\u001b[38;5;241m.\u001b[39msolver\u001b[38;5;241m.\u001b[39mset_processing_limits(\n\u001b[0;32m    611\u001b[0m     max_seconds,\n\u001b[0;32m    612\u001b[0m     max_nodes,\n\u001b[1;32m   (...)\u001b[0m\n\u001b[0;32m    615\u001b[0m     max_nodes_same_incumbent,\n\u001b[0;32m    616\u001b[0m )\n\u001b[1;32m--> 618\u001b[0m \u001b[38;5;28mself\u001b[39m\u001b[38;5;241m.\u001b[39m_status \u001b[38;5;241m=\u001b[39m \u001b[38;5;28;43mself\u001b[39;49m\u001b[38;5;241;43m.\u001b[39;49m\u001b[43msolver\u001b[49m\u001b[38;5;241;43m.\u001b[39;49m\u001b[43moptimize\u001b[49m\u001b[43m(\u001b[49m\u001b[43mrelax\u001b[49m\u001b[43m)\u001b[49m\n\u001b[0;32m    619\u001b[0m \u001b[38;5;66;03m# has a solution\u001b[39;00m\n\u001b[0;32m    620\u001b[0m \u001b[38;5;28;01mif\u001b[39;00m (\n\u001b[0;32m    621\u001b[0m     \u001b[38;5;28mself\u001b[39m\u001b[38;5;241m.\u001b[39m_status\n\u001b[0;32m    622\u001b[0m     \u001b[38;5;129;01min\u001b[39;00m (\n\u001b[1;32m   (...)\u001b[0m\n\u001b[0;32m    626\u001b[0m     \u001b[38;5;129;01mand\u001b[39;00m \u001b[38;5;28mself\u001b[39m\u001b[38;5;241m.\u001b[39mnum_int \u001b[38;5;241m>\u001b[39m \u001b[38;5;241m0\u001b[39m\n\u001b[0;32m    627\u001b[0m ):\n",
      "File \u001b[1;32m~\\anaconda3\\lib\\site-packages\\mip\\cbc.py:1228\u001b[0m, in \u001b[0;36mSolverCbc.optimize\u001b[1;34m(self, relax)\u001b[0m\n\u001b[0;32m   1223\u001b[0m cbclib\u001b[38;5;241m.\u001b[39mCbc_setIntParam(\n\u001b[0;32m   1224\u001b[0m     \u001b[38;5;28mself\u001b[39m\u001b[38;5;241m.\u001b[39m_model, INT_PARAM_MAX_SAVED_SOLS, \u001b[38;5;28mself\u001b[39m\u001b[38;5;241m.\u001b[39mmodel\u001b[38;5;241m.\u001b[39msol_pool_size\n\u001b[0;32m   1225\u001b[0m )\n\u001b[0;32m   1227\u001b[0m \u001b[38;5;28mself\u001b[39m\u001b[38;5;241m.\u001b[39m__clear_sol()\n\u001b[1;32m-> 1228\u001b[0m \u001b[43mcbclib\u001b[49m\u001b[38;5;241;43m.\u001b[39;49m\u001b[43mCbc_solve\u001b[49m\u001b[43m(\u001b[49m\u001b[38;5;28;43mself\u001b[39;49m\u001b[38;5;241;43m.\u001b[39;49m\u001b[43m_model\u001b[49m\u001b[43m)\u001b[49m\n\u001b[0;32m   1230\u001b[0m \u001b[38;5;28;01mif\u001b[39;00m cbclib\u001b[38;5;241m.\u001b[39mCbc_isAbandoned(\u001b[38;5;28mself\u001b[39m\u001b[38;5;241m.\u001b[39m_model):\n\u001b[0;32m   1231\u001b[0m     \u001b[38;5;28;01mreturn\u001b[39;00m OptimizationStatus\u001b[38;5;241m.\u001b[39mERROR\n",
      "\u001b[1;31mKeyboardInterrupt\u001b[0m: "
     ]
    }
   ],
   "source": [
    "modelo, x = read_instance(\"instancias//instancia_5.txt\")\n",
    "\n",
    "aux1 = modelo.copy()    \n",
    "aux1.optimize()\n",
    "node = Node(model=aux1, x=x, dual_limit = aux1.objective_value, primal_limit = 0,parent=None, left_node=None, rigth_node=None)\n",
    "\n",
    "list_nodes = build_tree(node, x, node.primal_limit, node.dual_limit, [])"
   ]
  },
  {
   "cell_type": "code",
   "execution_count": null,
   "id": "b994bb06-0dea-43b4-ace7-799fe0d46c38",
   "metadata": {},
   "outputs": [],
   "source": [
    "best_node = list_nodes[0]\n",
    "\n",
    "for node in list_nodes:\n",
    "    if objectivo_value_cost(node) > objectivo_value_cost(best_node):\n",
    "        best_node = node"
   ]
  },
  {
   "cell_type": "code",
   "execution_count": null,
   "id": "9c65a0b3-4196-4b6c-acaa-fd691bbe84d2",
   "metadata": {},
   "outputs": [],
   "source": [
    "solve(best_node.model)"
   ]
  },
  {
   "cell_type": "code",
   "execution_count": null,
   "id": "ac5494f0-b947-48e3-977c-4041c85785d7",
   "metadata": {},
   "outputs": [],
   "source": [
    "print_modelo(best_node.model)"
   ]
  }
 ],
 "metadata": {
  "kernelspec": {
   "display_name": "Python 3 (ipykernel)",
   "language": "python",
   "name": "python3"
  },
  "language_info": {
   "codemirror_mode": {
    "name": "ipython",
    "version": 3
   },
   "file_extension": ".py",
   "mimetype": "text/x-python",
   "name": "python",
   "nbconvert_exporter": "python",
   "pygments_lexer": "ipython3",
   "version": "3.9.12"
  }
 },
 "nbformat": 4,
 "nbformat_minor": 5
}
